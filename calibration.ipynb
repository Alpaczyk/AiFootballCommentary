{
  "cells": [
    {
      "cell_type": "markdown",
      "metadata": {
        "id": "view-in-github",
        "colab_type": "text"
      },
      "source": [
        "<a href=\"https://colab.research.google.com/github/Alpaczyk/AiFootballCommentary/blob/main/calibration.ipynb\" target=\"_parent\"><img src=\"https://colab.research.google.com/assets/colab-badge.svg\" alt=\"Open In Colab\"/></a>"
      ]
    },
    {
      "cell_type": "markdown",
      "id": "286495c6",
      "metadata": {
        "id": "286495c6"
      },
      "source": [
        "# Calibration\n",
        "\n",
        "Modern integrated circuits, or chips, are manufactured using a complex process where the chips are essentially printed onto a silicon wafer (see this **[video](https://www.youtube.com/watch?v=g8Qav3vIv9s)** for an overview of the process). Each wafer contains many chips (e.g. a wafer with 300mm diameter fits several hundred laptop grade microprocessors). The chips on a finished wafer are tested to identify which are good and which are faulty. The yield of a wafer is determined by the fraction of good chips. To maximize the yield, semiconductor manufacturers are interested in identifying and correcting the causes of the faulty chips (e.g. wrong settings in one of processing steps). Some causes can be identified by visual inspection of patterns in a wafer maps, showing which chips are good and which are faulty.\n",
        "\n",
        "![wafer.png](attachment:wafer.png)\n",
        "\n",
        "In this assignment you will work with wafer map data from a semiconductor manufacturing process. Your task will be to develop a calibrated classifier for identifying patterns of faulty chips on a finished wafer. Identifying such patterns can help with optimizing the manufacturing process parameters for the following wafers."
      ]
    },
    {
      "cell_type": "code",
      "source": [
        "from google.colab import drive\n",
        "drive.mount('/content/drive')"
      ],
      "metadata": {
        "colab": {
          "base_uri": "https://localhost:8080/"
        },
        "id": "AfpODfyEZyoi",
        "outputId": "405b010b-f702-4196-87de-8f2960d53a93"
      },
      "id": "AfpODfyEZyoi",
      "execution_count": 89,
      "outputs": [
        {
          "output_type": "stream",
          "name": "stdout",
          "text": [
            "Drive already mounted at /content/drive; to attempt to forcibly remount, call drive.mount(\"/content/drive\", force_remount=True).\n"
          ]
        }
      ]
    },
    {
      "cell_type": "markdown",
      "id": "2bab6894",
      "metadata": {
        "id": "2bab6894"
      },
      "source": [
        "#### Deliverable\n",
        "\n",
        "Throughout this notebook you will find cells starting with `#TODO` and `# // BEGIN_TODO`.\n",
        "\n",
        "- Fill in all these TODO cells. The `#TODO` cells are meant to guide you (you are strongly encouraged to fill these in!), while the `#BEGIN_TODO` _answer cells_ will be graded.\n",
        "- Answer cells start and end with tags, `# // BEGIN_TODO [Q0]` and `# // END_TODO [Q0]`, for example. Do not edit these tags in any way, or else your answers may not be processed by the grading system.\n",
        "- Be careful when importing additional libraries. The code for of your answers will be evaluated automatically and we cannot guarantee that any additional libraries will be available in that environment. Please check the Momotor output on Canvas after submitting the assignment, you should be able to see if all your code executed without errors. If in doubt, please ask your instructor.\n",
        "- You can add arbitrary many code and text cells between the `# // BEGIN_TODO` and `# // END_TODO` tags to make your code nicely readable.\n",
        "\n",
        "You are encouraged to play with the data and extend this notebook in order to obtain your answers. You may insert cells at any point in the notebook, but remember:\n",
        "<br/><br/>\n",
        "<div style=\"padding: 15px; border: 1px solid transparent; border-color: transparent; margin-bottom: 20px; border-radius: 4px; color: #a94442; background-color: #f2dede; border-color: #ebccd1;\n",
        "\">\n",
        "Only the code in your answer cells (i.e. between `# // BEGIN_TODO` and `# // END_TODO`) will be extracted and evaluated.\n",
        "</div>\n",
        "\n",
        "At the end, deliver the filled in **and executed** `.ipynb` file by submitting it to the corresponding assignment on Canvas. You may submit as many times as you like before the deadline. The last submission counts.\n",
        "\n",
        "> **IMPORTANT:** Before delivering your notebook, make sure that the cells in your notebook can be executed in sequence without errors, by executing \"Restart & Run All\" from the \"Kernel\" menu.\n",
        "\n",
        "Let's get started by filling in your details in the following answer cell. Assign your group number, your names and student ids to variables `group_number`, `name_student1`, `id_student1`, `name_student2`, `id_student2`, e.g.:\n",
        "\n",
        "```\n",
        "# // BEGIN_TODO [AUTHOR]\n",
        "group_number = \"7\"\n",
        "name_student1 = \"John Smith\"\n",
        "id_student1 = \"1234567\"\n",
        "name_student2 = \"Jane Miller\"\n",
        "id_student2 = \"7654321\"\n",
        "# // END_TODO [AUTHOR]\n",
        "```"
      ]
    },
    {
      "cell_type": "code",
      "execution_count": 90,
      "id": "dfd5121d",
      "metadata": {
        "id": "dfd5121d"
      },
      "outputs": [],
      "source": [
        "#// BEGIN_TODO [AUTHOR]\n",
        "\n",
        "# ===== =====> Replace this line by your code. <===== ===== #\n",
        "\n",
        "#// END_TODO [AUTHOR]"
      ]
    },
    {
      "cell_type": "markdown",
      "id": "f5849978",
      "metadata": {
        "id": "f5849978"
      },
      "source": [
        "## Import libraries\n",
        "\n",
        "Later, the code in your answer cells will be evaluated in an environment with several typical data science libraries installed, including pandas, numpy, matplotlib, sklearn. You are free to use them. If you would like to use other libraries, please contact the instructor to see if it can be accommodated. Please import any additional libraries inside your answer cells (otherwise your code may crash during evaluation)."
      ]
    },
    {
      "cell_type": "code",
      "execution_count": 91,
      "id": "3514b63e",
      "metadata": {
        "id": "3514b63e"
      },
      "outputs": [],
      "source": [
        "import pandas as pd\n",
        "import numpy as np\n",
        "import matplotlib.pyplot as plt\n",
        "import pickle"
      ]
    },
    {
      "cell_type": "markdown",
      "id": "91b7c08a",
      "metadata": {
        "id": "91b7c08a"
      },
      "source": [
        "## Load the data\n",
        "\n",
        "The data resides in the `./data/wafer_calibration.pkl` pickle file. It is based on the WM-811K dataset containing annotated wafer maps collected from real-world fabrication (see `./data/readme.txt`)."
      ]
    },
    {
      "cell_type": "code",
      "execution_count": 92,
      "id": "621ad3a6",
      "metadata": {
        "id": "621ad3a6"
      },
      "outputs": [],
      "source": [
        "with open('/content/drive/MyDrive/calibration/data/wafer.pkl', 'rb') as f:\n",
        "\n",
        "    X_train, X_test, y_train, y_test = pickle.load(f)\n",
        "\n",
        "\n",
        "\n",
        "\n",
        "\n",
        "\n",
        "\n",
        "\n",
        "\n"
      ]
    },
    {
      "cell_type": "markdown",
      "id": "add901ea",
      "metadata": {
        "id": "add901ea"
      },
      "source": [
        "`X` contains wafer maps and `y` contains the labels. The maps are 26x26 pixels, a pixel of value 0 represents the background, a pixel of value 1 indicates a good chip, and a pixel of value 2 indicates a bad chip. An example of a wafer map is shown below."
      ]
    },
    {
      "cell_type": "code",
      "execution_count": 93,
      "id": "20f2abd3",
      "metadata": {
        "id": "20f2abd3",
        "colab": {
          "base_uri": "https://localhost:8080/",
          "height": 430
        },
        "outputId": "cc61addc-52b3-4fdd-99b5-e84f99fc95a9"
      },
      "outputs": [
        {
          "output_type": "display_data",
          "data": {
            "text/plain": [
              "<Figure size 640x480 with 1 Axes>"
            ],
            "image/png": "[encoded data removed]"
          },
          "metadata": {}
        }
      ],
      "source": [
        "plt.imshow(X_train[0]);"
      ]
    },
    {
      "cell_type": "markdown",
      "id": "6a172029",
      "metadata": {
        "id": "6a172029"
      },
      "source": [
        "The wafer maps were labeled by human experts according to bad chip patterns, where each label is an integer:\n",
        "\n",
        "- 0: No pattern\n",
        "- 1: Center\n",
        "- 2: Donut\n",
        "- 3: Edge-local\n",
        "- 4: Edge-ring\n",
        "- 5: Local\n",
        "- 6: Near-full\n",
        "- 7: Random\n",
        "- 8: Scratch\n",
        "\n",
        "An example of the wafer map for each pattern is shown below. Note that not all patterns may be present in this particular data set."
      ]
    },
    {
      "cell_type": "code",
      "execution_count": 94,
      "id": "837764b4",
      "metadata": {
        "id": "837764b4",
        "colab": {
          "base_uri": "https://localhost:8080/",
          "height": 192
        },
        "outputId": "e41a8826-5657-46d3-a60d-7d0e1c33e00c"
      },
      "outputs": [
        {
          "output_type": "display_data",
          "data": {
            "text/plain": [
              "<Figure size 1200x500 with 6 Axes>"
            ],
            "image/png": "[encoded data removed]"
          },
          "metadata": {}
        }
      ],
      "source": [
        "unique_classes, class_indexes = np.unique(y_train,return_index=True)\n",
        "class_names = [\"No pattern\", \"Center\", \"Donut\", \"Edge-local\", \"Edge-ring\", \"Local\", \"Near-full\", \"Random\", \"Scratch\"]\n",
        "fig, axes = plt.subplots(1,len(unique_classes), figsize = (12,5))\n",
        "for num_index, index in enumerate(class_indexes):\n",
        "    axes[num_index].imshow(X_train[index])\n",
        "    axes[num_index].set_title(class_names[unique_classes[num_index]])\n",
        "    axes[num_index].set_xticks([])\n",
        "    axes[num_index].set_yticks([])"
      ]
    },
    {
      "cell_type": "markdown",
      "id": "356882ba",
      "metadata": {
        "id": "356882ba"
      },
      "source": [
        "## Train a classifier\n",
        "\n",
        "In this part you will implement a classifier, which will be used later for evaluating your calibration method.\n",
        "\n",
        "First, start by exploring the data. Remember, you can add as many code and markdown cells as you like."
      ]
    },
    {
      "cell_type": "code",
      "execution_count": 95,
      "id": "fa97794b",
      "metadata": {
        "id": "fa97794b",
        "colab": {
          "base_uri": "https://localhost:8080/"
        },
        "outputId": "ae69e54d-dc31-4bd6-bab8-cc06c2e1a340"
      },
      "outputs": [
        {
          "output_type": "stream",
          "name": "stdout",
          "text": [
            "[0 1 3 5 6 7] [   0 3890 3880 3879 3899 3887]\n",
            "431\n",
            "4310\n",
            "198\n",
            "1990\n"
          ]
        }
      ],
      "source": [
        "# TODO: Explore the data\n",
        "#my_data = np.array(X_train)\n",
        "#my_columns = [\"pattern\"]\n",
        "#my_dataframe = pd.DataFrame(my_data, my_columns)\n",
        "#print(my_dataframe.head(3))\n",
        "unique_classes, class_indexes = np.unique(y_train,return_index=True)\n",
        "true_yTrain = np.count_nonzero(y_train)\n",
        "all_yTrain = len(y_train)\n",
        "true_yTest = np.count_nonzero(y_test)\n",
        "all_yTest = len(y_test)\n",
        "print(unique_classes, class_indexes)\n",
        "print(true_yTrain)\n",
        "print(all_yTrain)\n",
        "print(true_yTest)\n",
        "print(all_yTest)"
      ]
    },
    {
      "cell_type": "markdown",
      "id": "15945f0c",
      "metadata": {
        "id": "15945f0c"
      },
      "source": [
        "In the first part of this assignment the aim is to identify whether the wafer map contains any known patterns or not. We therefore treat it as a binary classification problem and replace labels other than 0 to 1."
      ]
    },
    {
      "cell_type": "code",
      "execution_count": 96,
      "id": "420f1d2a",
      "metadata": {
        "id": "420f1d2a"
      },
      "outputs": [],
      "source": [
        "y_binary_train = np.copy(y_train)\n",
        "y_binary_train[y_binary_train != 0] = 1\n",
        "\n",
        "y_binary_test = np.copy(y_test)\n",
        "y_binary_test[y_binary_test != 0] = 1"
      ]
    },
    {
      "cell_type": "markdown",
      "id": "5ff8447f",
      "metadata": {
        "id": "5ff8447f"
      },
      "source": [
        "#### Step 1\n",
        "\n",
        "Choose a metric for evaluating the classifier's generalization performance and assign your choice to a string variable `classifier_metric_choice`. Motivate the choice (including the hyper-parameters, if any) in a string variable `classifier_metric_motivation` (max 800 characters). Describe how you decide based on this metric if a classifier is sufficiently calibrated in a string variable `classifier_metric_decision` (max 200 characters)."
      ]
    },
    {
      "cell_type": "code",
      "execution_count": 97,
      "id": "5ddb1c15",
      "metadata": {
        "id": "5ddb1c15"
      },
      "outputs": [],
      "source": [
        "#// BEGIN_TODO [STEP_1] Choose a classifier metric (5 points)\n",
        "\n",
        "#Accuracy = bad because of the inbalace (1:10)\n",
        "#Precision = FP worse than FN -> In my opinion FP is not bad since it can happen that the program would find some patterns among the \"no-pattern\" label\n",
        "#Recall = FN worse than FP -> In my opinion FN is bad since it mneans that there is a pattern but the it will be classified as no-pattern so we will ommit some patterns\n",
        "#F1 Score = FN = FP concern and when TN is high -> Its related in our situation since we have very high False values in both sets, so we will have high TN. The case is about if FP = FN regards issues.\n",
        "\n",
        "#Imo Recall of F1 score is relative to our case. How to decide if a classifier is sufficiently calibrated?  \"0.7 or higher As a general guideline, an F1 score of 0.7 or higher is often considered good.\"\n",
        "\n",
        "# ===== =====> Replace this line by your code. <===== ===== #\n"
      ]
    },
    {
      "cell_type": "code",
      "execution_count": 98,
      "id": "4a25860f",
      "metadata": {
        "id": "4a25860f"
      },
      "outputs": [],
      "source": [
        "#// END_TODO [STEP_1]"
      ]
    },
    {
      "cell_type": "markdown",
      "id": "40f555f2",
      "metadata": {
        "id": "40f555f2"
      },
      "source": [
        "#### Step 2\n",
        "\n",
        "Train a binary classifier on the training set `X_train` and `y_train`. You are free to chose any model and data preprocessing method, as long as:\n",
        "\n",
        "- your classifier outputs the predicted class (0 or 1) and the confidence estimate of the positive class,\n",
        "- your submission executes within 10 minutes on Momotor,\n",
        "- you use the libraries available on Momotor (if you would like to use other libraries, please contact the instructor to see if it can be accommodated).\n",
        "\n",
        "Evaluate your trained model on the test set `X_test` and `y_test`. What do you observe? How do you know that your model is well trained? Assign your answer to a string variable `observation_classifier` (max 600 characters).\n",
        "\n",
        "Apply the classifier to the `X_test` data and store the predicted classes and confidence estimate in the variables `uncalibrated_y` and `uncalibrated_p`, respectively:\n",
        "\n",
        "- `uncalibrated_y` should be a `np.ndarray` of shape $[N,]$ and `dtype` of `np.int32`, where $N$ is the number of samples and each value is the predicted class,\n",
        "- `uncalibrated_p` should be a `np.ndarray` of shape $[N,]$ and `dtype` of `np.float32`, where each value is the classifier's confidence in the positive class."
      ]
    },
    {
      "cell_type": "code",
      "execution_count": 131,
      "id": "074a3c50",
      "metadata": {
        "id": "074a3c50",
        "colab": {
          "base_uri": "https://localhost:8080/"
        },
        "outputId": "212b9290-dfa7-47a1-b4ac-81ac8dde0904"
      },
      "outputs": [
        {
          "output_type": "stream",
          "name": "stdout",
          "text": [
            "[[ 2.30926389e-14 -6.88338275e-14  2.02060590e-14 ... -2.88657986e-15\n",
            "   7.51620988e-14  1.13242749e-14]\n",
            " [ 2.30926389e-14 -6.88338275e-14  2.02060590e-14 ... -2.88657986e-15\n",
            "   7.51620988e-14  1.13242749e-14]\n",
            " [ 2.30926389e-14 -6.88338275e-14  2.02060590e-14 ... -2.88657986e-15\n",
            "   7.51620988e-14  1.13242749e-14]\n",
            " ...\n",
            " [ 2.30926389e-14 -6.88338275e-14  2.02060590e-14 ... -2.88657986e-15\n",
            "   7.51620988e-14  1.13242749e-14]\n",
            " [ 2.30926389e-14 -6.88338275e-14  2.02060590e-14 ... -2.88657986e-15\n",
            "   7.51620988e-14  1.13242749e-14]\n",
            " [ 2.30926389e-14 -6.88338275e-14  2.02060590e-14 ... -2.88657986e-15\n",
            "   7.51620988e-14  1.13242749e-14]]\n"
          ]
        }
      ],
      "source": [
        "#// BEGIN_TODO [STEP_2] Train a binary classifier (10 points)\n",
        "#Need to ask if we can import these libraries\n",
        "import keras\n",
        "from keras.models import Sequential\n",
        "from keras.layers import Dense\n",
        "import tensorflow as tf\n",
        "import sklearn\n",
        "from sklearn.metrics import confusion_matrix,ConfusionMatrixDisplay\n",
        "from sklearn.preprocessing import StandardScaler\n",
        "#We need to rescale the X_test from 3d array to 2d array in order to preprocess it. Here its made wrong, just for test. We need to reshape it without losing 26x26 image. Or maybe another model?\n",
        "nsamples, nx, ny = X_train.shape\n",
        "d2_train_dataset = X_train.reshape((nsamples,nx*ny))\n",
        "#Here its scaling the dataset\n",
        "scaler = StandardScaler()\n",
        "X_normalized = scaler.fit_transform(d2_train_dataset)\n",
        "\n",
        "print(X_normalized)\n",
        "\n",
        "#for i in range(len(X_train)):\n",
        "  #array[i] = np.array(X_train[i])\n",
        "#print(array[0])\n",
        "#scaler = StandardScaler()\n",
        "#X_train = scaler.fit_transform(X_train.reshape(-1, X_train.shape[-1])).reshape(X_train.shape)\n",
        "\n",
        "#And here is model\n",
        "#basic_model = Sequential()\n",
        "#basic_model.add(Dense(units=16, activation='relu', input_shape=(676, )))\n",
        "#basic_model.add(Dense(1, activation='sigmoid'))\n",
        "#adam = keras.optimizers.Adam(learning_rate=0.001)\n",
        "#basic_model.compile(loss='binary_crossentropy', optimizer=adam, metrics=[\"accuracy\"])\n",
        "#basic_model.fit(X_normalized, y_train, epochs=50)\n",
        "#loss_and_metrics = basic_model.evaluate(X_normalized, y_train)\n",
        "#print(loss_and_metrics)\n",
        "#print('Loss = ',loss_and_metrics[0])\n",
        "#print('Accuracy = ',loss_and_metrics[1])\n"
      ]
    },
    {
      "cell_type": "code",
      "execution_count": null,
      "id": "291017db",
      "metadata": {
        "id": "291017db"
      },
      "outputs": [],
      "source": [
        "#// END_TODO [STEP_2]"
      ]
    },
    {
      "cell_type": "markdown",
      "id": "654c3caa",
      "metadata": {
        "id": "654c3caa"
      },
      "source": [
        "## Measure and visualize calibration"
      ]
    },
    {
      "cell_type": "markdown",
      "id": "336c9fcc",
      "metadata": {
        "id": "336c9fcc"
      },
      "source": [
        "#### Step 3\n",
        "\n",
        "Visualize the calibration of your trained model using a reliability diagram. Describe your observations in the variable `observation_uncalibrated` (max 1000 characters)."
      ]
    },
    {
      "cell_type": "code",
      "execution_count": null,
      "id": "d5ba83de",
      "metadata": {
        "id": "d5ba83de"
      },
      "outputs": [],
      "source": [
        "#// BEGIN_TODO [STEP_3] Visualize calibration of uncalibrated model (5 points)\n",
        "\n",
        "# ===== =====> Replace this line by your code. <===== ===== #\n"
      ]
    },
    {
      "cell_type": "code",
      "execution_count": null,
      "id": "cd674c35",
      "metadata": {
        "id": "cd674c35"
      },
      "outputs": [],
      "source": [
        "#// END_TODO [STEP_3]"
      ]
    },
    {
      "cell_type": "markdown",
      "id": "fc6bbb64",
      "metadata": {
        "id": "fc6bbb64"
      },
      "source": [
        "#### Step 4\n",
        "\n",
        "Choose a calibration metric and assign its name to a string variable `binary_metric_choice`. Motivate the choice (including the hyper-parameters, if any) in a string variable `binary_metric_motivation` (max 800 characters). Describe how you decide based on this metric if a classifier is sufficiently calibrated in a string variable `binary_metric_decision` (max 200 characters)."
      ]
    },
    {
      "cell_type": "code",
      "execution_count": null,
      "id": "8ae00973",
      "metadata": {
        "id": "8ae00973"
      },
      "outputs": [],
      "source": [
        "#// BEGIN_TODO [STEP_4] Choose a calibration metric (5 points)\n",
        "\n",
        "# ===== =====> Replace this line by your code. <===== ===== #\n"
      ]
    },
    {
      "cell_type": "code",
      "execution_count": null,
      "id": "6bc913ea",
      "metadata": {
        "id": "6bc913ea"
      },
      "outputs": [],
      "source": [
        "#// END_TODO [STEP_4]"
      ]
    },
    {
      "cell_type": "markdown",
      "id": "01295925",
      "metadata": {
        "id": "01295925"
      },
      "source": [
        "#### Step 5\n",
        "\n",
        "Implement the chosen calibration metric. It should be a Python class with the following method:\n",
        "\n",
        "- `score(self, p, y)`, where\n",
        "    - `p` is an `np.ndarray` of shape $[N,]$ with the confidence estimates of the *positive class* for $N$ samples.\n",
        "    - `y` is an `np.ndarray` of shape $[N,]$ with the corresponding true labels (0 or 1).\n",
        "    - It returns a `np.float` number with the calibration error.\n",
        "\n",
        "Instantiate the class (setting any relevant hyper-parameters) and assign it to the variable `binary_metric`.\n",
        "\n",
        "Measure the calibration error of your model on `X_test` and `y_test` and assign the result to the variable `binary_uncalibrated`."
      ]
    },
    {
      "cell_type": "code",
      "execution_count": null,
      "id": "59a820dd",
      "metadata": {
        "id": "59a820dd"
      },
      "outputs": [],
      "source": [
        "#// BEGIN_TODO [STEP_5] Implement the calibration metric (5 points)\n",
        "\n",
        "# ===== =====> Replace this line by your code. <===== ===== #\n"
      ]
    },
    {
      "cell_type": "code",
      "execution_count": null,
      "id": "b97bac44",
      "metadata": {
        "id": "b97bac44"
      },
      "outputs": [],
      "source": [
        "#// END_TODO [STEP_5]"
      ]
    },
    {
      "cell_type": "markdown",
      "id": "d4e1b7b9",
      "metadata": {
        "id": "d4e1b7b9"
      },
      "source": [
        "## Calibrate the classifer"
      ]
    },
    {
      "cell_type": "markdown",
      "id": "1276d99d",
      "metadata": {
        "id": "1276d99d"
      },
      "source": [
        "#### Step 6\n",
        "\n",
        "Implement at least two calibration methods. Each calibration method should be a Python class with the following methods:\n",
        "\n",
        "- `fit(self, p, y)`, where\n",
        "    - `p` is an `np.ndarray` of shape $[N,]$ with the confidence estimates of the *positive class* for $N$ samples.\n",
        "    - `y` is an `np.ndarray` of shape $[N,]$ with the corresponding true labels (0 or 1).\n",
        "    - It fits the calibration model and returns a reference to `self`.\n",
        "- `predict_proba(self, p)`, where\n",
        "    - `p` is an `np.ndarray` of shape $[N,]$ with confidence estimates of the *positive class* for $N$ samples.\n",
        "    - It returns an `np.ndarray` of shape $[N,]$ with the calibrated confidence estimates for each sample in `p`.\n",
        "\n",
        "> **IMPORTANT:** You are not allowed to use the `sklearn.calibration.CalibratedClassifierCV()` method.\n",
        "\n",
        "Instantiate the calibration methods (setting any relevant hyper-parameters) and assign them to a list variable `binary_calibrators`."
      ]
    },
    {
      "cell_type": "code",
      "execution_count": null,
      "id": "42dd91c3",
      "metadata": {
        "id": "42dd91c3"
      },
      "outputs": [],
      "source": [
        "#// BEGIN_TODO [STEP_6] Implement calibration methods (10 points)\n",
        "\n",
        "# ===== =====> Replace this line by your code. <===== ===== #\n"
      ]
    },
    {
      "cell_type": "code",
      "execution_count": null,
      "id": "2bdb6d81",
      "metadata": {
        "id": "2bdb6d81"
      },
      "outputs": [],
      "source": [
        "#// END_TODO [STEP_6]"
      ]
    },
    {
      "cell_type": "markdown",
      "id": "d03c78a9",
      "metadata": {
        "id": "d03c78a9"
      },
      "source": [
        "#### Step 7\n",
        "\n",
        "Evaluate the performance of your calibration methods. Describe your observations in the variable `observation_calibrators` (max 2000 characters)."
      ]
    },
    {
      "cell_type": "code",
      "execution_count": null,
      "id": "8fac6439",
      "metadata": {
        "id": "8fac6439"
      },
      "outputs": [],
      "source": [
        "#// BEGIN_TODO [STEP_7] Evaluate the calibration method (10 points)\n",
        "\n",
        "# ===== =====> Replace this line by your code. <===== ===== #\n"
      ]
    },
    {
      "cell_type": "code",
      "execution_count": null,
      "id": "16c84a22",
      "metadata": {
        "id": "16c84a22"
      },
      "outputs": [],
      "source": [
        "#// END_TODO [STEP_7]"
      ]
    },
    {
      "cell_type": "markdown",
      "id": "17787b13",
      "metadata": {
        "id": "17787b13"
      },
      "source": [
        "#### Step 8\n",
        "\n",
        "Let's evaluate your selected calibration method on the output from different classifier, stored in the `./data/wafer_calibration.pkl` pickle file."
      ]
    },
    {
      "cell_type": "code",
      "execution_count": null,
      "id": "5394811a",
      "metadata": {
        "id": "5394811a"
      },
      "outputs": [],
      "source": [
        "with open('./data/wafer_calibration.pkl', 'rb') as f:\n",
        "    p_calib_train, p_calib_test, y_calib_train, y_calib_test = pickle.load(f)"
      ]
    },
    {
      "cell_type": "markdown",
      "id": "f9f5e369",
      "metadata": {
        "id": "f9f5e369"
      },
      "source": [
        "`p_calib_train` and `p_calib_test` contain the confidence estimates of a classifier (divided into a training and test set), and `y_calib_train` and `y_calib_test` contain the corresponding true labels."
      ]
    },
    {
      "cell_type": "markdown",
      "id": "8978bf59",
      "metadata": {
        "id": "8978bf59"
      },
      "source": [
        "Retrain your calibration methods on `p_calib_train` and `y_calib_train`. Use `p_calib_test` and `y_calib_test` to evaluate your methods. Describe your observations in the variable `observation_other` (max 800 characters)."
      ]
    },
    {
      "cell_type": "code",
      "execution_count": null,
      "id": "7fc63ef0",
      "metadata": {
        "id": "7fc63ef0"
      },
      "outputs": [],
      "source": [
        "#// BEGIN_TODO [STEP_8] Evaluate the calibration method on another classifier (5 points)\n",
        "\n",
        "# ===== =====> Replace this line by your code. <===== ===== #\n"
      ]
    },
    {
      "cell_type": "code",
      "execution_count": null,
      "id": "9220eaf3",
      "metadata": {
        "id": "9220eaf3"
      },
      "outputs": [],
      "source": [
        "#// END_TODO [STEP_8]"
      ]
    },
    {
      "cell_type": "markdown",
      "id": "6315f3aa",
      "metadata": {
        "id": "6315f3aa"
      },
      "source": [
        "#### Step 9\n",
        "\n",
        "Choose your favorite calibration method. Assign the instantiated class implementing your chosen calibration method to the variable `binary_calibrator` and its name to a string variable `binary_calibrator_choice`. Motivate the choice (including hyper-parameters, if any) in a string variable `binary_calibrator_motivation` (max 800 characters).\n",
        "\n",
        "Apply the chosen calibration method to your model on the test data `X_test` and assign the calibrated confidence estimates to `q_test` (an `np.ndarray` of shape $[N,]$ and `dtype` of `np.float32`).\n",
        "\n",
        "Apply the calibration method to the confidence estimates in `p_calib_test` and assign the calibrated class probabilities to the variable `q_calib_test` (an `np.ndarray` of shape $[N,]$ and `dtype` of `np.float32`).\n",
        "\n",
        "Measure the calibration error of the calibrated model and assign the result to the variable `binary_calibrated`."
      ]
    },
    {
      "cell_type": "code",
      "execution_count": null,
      "id": "ea1df57d",
      "metadata": {
        "id": "ea1df57d"
      },
      "outputs": [],
      "source": [
        "#// BEGIN_TODO [STEP_9] Choose a calibration method (5 points)\n",
        "\n",
        "# ===== =====> Replace this line by your code. <===== ===== #\n"
      ]
    },
    {
      "cell_type": "code",
      "execution_count": null,
      "id": "35b07200",
      "metadata": {
        "id": "35b07200"
      },
      "outputs": [],
      "source": [
        "#// END_TODO [STEP_9]"
      ]
    },
    {
      "cell_type": "markdown",
      "id": "97f1abf0",
      "metadata": {
        "id": "97f1abf0"
      },
      "source": [
        "#### Leaderboard\n",
        "\n",
        "If you would like to see how your binary calibration method compares to others, you can chose to submit your calibration method to the leaderboard. All submitted calibration methods will be evaluated on a held-out set from a similar distribution as `p_calib_test` and `y_calib_test`.\n",
        "\n",
        "You may submit your notebook as many times as you like before the deadline. We will try to update the leaderboard daily. Your latest submission at the moment the leaderboard is computed will count.\n",
        "\n",
        "If you would like to submit your `binary_calibrator` to the leaderboard, then assign a reference to your *trained* calibration method to the variable `leaderboard_calibrator`. Otherwise, set it to `None`. Since it will be evaluated on a held-out set, you are free to use any data that was included with this assignment. Also, assign a nickname to the string variable `leaderboard_nickname` that will be shown on the leaderboard next to your score."
      ]
    },
    {
      "cell_type": "code",
      "execution_count": null,
      "id": "84c808ce",
      "metadata": {
        "id": "84c808ce"
      },
      "outputs": [],
      "source": [
        "#// BEGIN_TODO [LEADERBOARD] Join the leaderboard (0 points)\n",
        "\n",
        "# ===== =====> Replace this line by your code. <===== ===== #\n"
      ]
    },
    {
      "cell_type": "code",
      "execution_count": null,
      "id": "11f28249",
      "metadata": {
        "id": "11f28249"
      },
      "outputs": [],
      "source": [
        "#// END_TODO [LEADERBOARD]"
      ]
    },
    {
      "cell_type": "markdown",
      "id": "b10219b1",
      "metadata": {
        "id": "b10219b1"
      },
      "source": [
        "## Extend to multi-class classification\n",
        "\n",
        "So far we have assumed a binary classification task. In this part you will implement a calibration metric and method that is applicable to multi-class classification.\n",
        "\n",
        "#### Step 10\n",
        "\n",
        "For evaluating the multi-class calibration metric and method, train a classifier on the multi-class wafer map data `X_train` and `y_train` that was loaded earlier. You are free to chose any model and data preprocessing method, as long as:\n",
        "\n",
        "- your classifier outputs the predicted class and the confidence estimate for each class,\n",
        "- your submission executes within 10 minutes on Momotor,\n",
        "- you use the libraries available on Momotor (if you would like to use other libraries, please contact the instructor to see if it can be accommodated).\n",
        "\n",
        "Evaluate your trained model on the test set `X_test` and `y_test`. What do you observe? How do you know that your model is well trained? Assign your answer to a string variable `observation_multiclass_classifier` (max 600 characters).\n",
        "\n",
        "Apply the classifier to the `X_test` data and store the predicted classes and confidence estimates in the variables `multi_uncalibrated_y` and `multi_uncalibrated_p`, respectively:\n",
        "\n",
        "- `multi_uncalibrated_y` should be a `np.ndarray` of shape $[N,K]$, with the predicted classes (one-hot encoded), where $N$ is the number of samples and $K$ is the number of classes, i.e. `multi_uncalibrated_y[n][k]` is 1 if the classifier predicted class `k`, otherwise it is 0,\n",
        "- `multi_uncalibrated_p` should be a `np.ndarray` of shape $[N,K]$, with the corresponding confidence estimates, i.e. `multi_uncalibrated_p[n][k]` is the classifier's confidence that the predicted class should be `k`.\n",
        "\n",
        "> **IMPORTANT:** For the wafer dataset $K = 9$ and the class indeces should correspond to the classes listed in section **Load the data**."
      ]
    },
    {
      "cell_type": "code",
      "execution_count": null,
      "id": "c4561cb2",
      "metadata": {
        "id": "c4561cb2"
      },
      "outputs": [],
      "source": [
        "#// BEGIN_TODO [STEP_10] Train a multi-class classifier (10 points)\n",
        "\n",
        "# ===== =====> Replace this line by your code. <===== ===== #\n"
      ]
    },
    {
      "cell_type": "code",
      "execution_count": null,
      "id": "71968ace",
      "metadata": {
        "id": "71968ace"
      },
      "outputs": [],
      "source": [
        "#// END_TODO [STEP_10]"
      ]
    },
    {
      "cell_type": "markdown",
      "id": "d57c9607",
      "metadata": {
        "id": "d57c9607"
      },
      "source": [
        "#### Step 11\n",
        "\n",
        "Choose a calibration metric and assign your choice to a string variable `multi_calibration_choice`. Motivate the choice (including the hyper-parameters, if any) in a string variable `multi_calibration_motivation` (max 800 characters). Describe how you decide based on this metric if a classifier is sufficiently calibrated in a string variable `multi_calibration_decision` (max 200 characters)."
      ]
    },
    {
      "cell_type": "code",
      "execution_count": null,
      "id": "4079883a",
      "metadata": {
        "id": "4079883a"
      },
      "outputs": [],
      "source": [
        "#// BEGIN_TODO [STEP_11] Choose a multi-class calibration metric (5 points)\n",
        "\n",
        "# ===== =====> Replace this line by your code. <===== ===== #\n"
      ]
    },
    {
      "cell_type": "code",
      "execution_count": null,
      "id": "adfa35ca",
      "metadata": {
        "id": "adfa35ca"
      },
      "outputs": [],
      "source": [
        "#// END_TODO [STEP_11]"
      ]
    },
    {
      "cell_type": "markdown",
      "id": "27153f2c",
      "metadata": {
        "id": "27153f2c"
      },
      "source": [
        "#### Step 12\n",
        "\n",
        "Implement the chosen calibration metric. It should be a Python class with the following method:\n",
        "\n",
        "- `score(self, p, y)`, where\n",
        "    - `p` is a `np.ndarray` of shape $[N,K]$ with the confidence estimates, where $N$ is the number of samples and $K$ is the number of classes,\n",
        "    - `y` is a `np.ndarray` of shape $[N,K]$ with the corresponding true class labels (one-hot encoded)\n",
        "    - It returns a `np.float` number with the calibration error.\n",
        "\n",
        "Instantiate the class (setting any relevant hyper-parameters) and assign it to the variable `multi_metric`.\n",
        "\n",
        "Measure the calibration error of your model on `X_test` and `y_test` and assign the result to the variable `multi_uncalibrated`."
      ]
    },
    {
      "cell_type": "code",
      "execution_count": null,
      "id": "9bb587e5",
      "metadata": {
        "id": "9bb587e5"
      },
      "outputs": [],
      "source": [
        "#// BEGIN_TODO [STEP_12] Implement the multi-class calibration metric (5 points)\n",
        "\n",
        "# ===== =====> Replace this line by your code. <===== ===== #\n"
      ]
    },
    {
      "cell_type": "code",
      "execution_count": null,
      "id": "b90c41e8",
      "metadata": {
        "id": "b90c41e8"
      },
      "outputs": [],
      "source": [
        "#// END_TODO [STEP_12]"
      ]
    },
    {
      "cell_type": "markdown",
      "id": "b41bb2fb",
      "metadata": {
        "id": "b41bb2fb"
      },
      "source": [
        "#### Step 13\n",
        "\n",
        "Implement at least one calibration method. Each calibration method should be a Python class with the following methods:\n",
        "\n",
        "- `fit(self, p, labels)`: where\n",
        "    - `p` is a `np.ndarray` of shape $[N,K]$ with the confidence estimates, where $N$ is the number of samples and $K$ is the number of classes,\n",
        "    - `y` is a `np.ndarray` of shape $[N,K]$ with the corresponding true class labels (one-hot encoded)\n",
        "    - It fits the calibration model and returns a reference to `self`.\n",
        "\n",
        "- `predict_proba(self, p)`: where\n",
        "    - `p` is a `np.ndarray` of shape $[N,K]$ with the confidence estimates, where $N$ is the number of samples and $K$ is the number of classes,\n",
        "    - It returns an `np.ndarray` of shape $[N,K]$ with the calibrated confidence estimates for each sample in `p`.\n",
        "\n",
        "> **IMPORTANT:** You are not allowed to use the `sklearn.calibration.CalibratedClassifierCV()` method.\n",
        "\n",
        "Instantiate the calibration methods (setting any relevant hyper-parameters) and assign them to a list variable `multi_calibrators`."
      ]
    },
    {
      "cell_type": "code",
      "execution_count": null,
      "id": "08e5cb81",
      "metadata": {
        "id": "08e5cb81"
      },
      "outputs": [],
      "source": [
        "#// BEGIN_TODO [STEP_13] Implement multi-class calibration methods (10 points)\n",
        "\n",
        "# ===== =====> Replace this line by your code. <===== ===== #\n"
      ]
    },
    {
      "cell_type": "code",
      "execution_count": null,
      "id": "81430a92",
      "metadata": {
        "id": "81430a92"
      },
      "outputs": [],
      "source": [
        "#// END_TODO [STEP_13]"
      ]
    },
    {
      "cell_type": "markdown",
      "id": "db7a2430",
      "metadata": {
        "id": "db7a2430"
      },
      "source": [
        "#### Step 14\n",
        "\n",
        "Evaluate the performance of your calibration methods. Choose your favorite method and assign its name to a string variable `multiclass_calibrator_choice`. Motivate the choice (including hyper-parameters, if any) in a string variable `multiclass_calibrator_motivation` (max 800 characters).\n",
        "\n",
        "Apply the chosen calibration method to your model on the test data `X_test` and assign the calibrated confidence estimates to `q_multi_test` (an `np.ndarray` of shape $[N,K]$ and `dtype` of `np.float32`).\n",
        "\n",
        "Measure the calibration error of the calibrated model and assign the result to the variable `multi_calibrated`."
      ]
    },
    {
      "cell_type": "code",
      "execution_count": null,
      "id": "12713a51",
      "metadata": {
        "id": "12713a51"
      },
      "outputs": [],
      "source": [
        "#// BEGIN_TODO [STEP_14] Choose a multi-class calibration method (5 points)\n",
        "\n",
        "# ===== =====> Replace this line by your code. <===== ===== #\n"
      ]
    },
    {
      "cell_type": "code",
      "execution_count": null,
      "id": "f9ab922c",
      "metadata": {
        "id": "f9ab922c"
      },
      "outputs": [],
      "source": [
        "#// END_TODO [STEP_14]"
      ]
    },
    {
      "cell_type": "markdown",
      "id": "0c227cdb",
      "metadata": {
        "id": "0c227cdb"
      },
      "source": [
        "#### Step 15\n",
        "\n",
        "A well calibrated classifier can also be used to identify whether a test sample is out-of-distribution, i.e. if it is very different from the data that the classifier was trained on. The `ood.pkl` file contains several out-of-distribution samples."
      ]
    },
    {
      "cell_type": "code",
      "execution_count": null,
      "id": "2d3e8e89",
      "metadata": {
        "id": "2d3e8e89"
      },
      "outputs": [],
      "source": [
        "with open('./data/ood.pkl', 'rb') as f:\n",
        "    X_ood = pickle.load(f)\n",
        "\n",
        "plt.imshow(X_ood[0]);"
      ]
    },
    {
      "cell_type": "markdown",
      "id": "55702d57",
      "metadata": {
        "id": "55702d57"
      },
      "source": [
        "Evaluate your classifier and calibration method on the data in `X_ood`. Describe your observations in a string variable `observation_ood` (max 1000 characters). Describe one drawback of this approach for identifying out-of-distribution samples in a string variable `drawback_ood` (max 500 characters)."
      ]
    },
    {
      "cell_type": "code",
      "execution_count": null,
      "id": "14fc53a0",
      "metadata": {
        "id": "14fc53a0"
      },
      "outputs": [],
      "source": [
        "#// BEGIN_TODO [STEP_15] (5 points)\n",
        "\n",
        "# ===== =====> Replace this line by your code. <===== ===== #\n"
      ]
    },
    {
      "cell_type": "code",
      "execution_count": null,
      "id": "9e64c875",
      "metadata": {
        "id": "9e64c875"
      },
      "outputs": [],
      "source": [
        "#// END_TODO [STEP_15]"
      ]
    },
    {
      "cell_type": "markdown",
      "id": "73c1e555",
      "metadata": {
        "id": "73c1e555"
      },
      "source": [
        "# Feedback\n",
        "\n",
        "Please fill in this questionaire to help us improve this course for the next year. Your feedback will be anonymized and will not affect your grade in any way!"
      ]
    },
    {
      "cell_type": "markdown",
      "id": "f4323869",
      "metadata": {
        "id": "f4323869"
      },
      "source": [
        "### How many hours did you spend on this assignment?\n",
        "\n",
        "Assign a number to variable `feedback_time`."
      ]
    },
    {
      "cell_type": "code",
      "execution_count": null,
      "id": "7e209271",
      "metadata": {
        "id": "7e209271"
      },
      "outputs": [],
      "source": [
        "#// BEGIN_FEEDBACK [Feedback_1] (0 points)\n",
        "\n",
        "#// END_FEEDBACK [Feedback_1]\n",
        "\n",
        "import numbers\n",
        "assert isinstance(feedback_time, numbers.Number), \"Please assign a number to variable feedback_time\""
      ]
    },
    {
      "cell_type": "markdown",
      "id": "92df9e1a",
      "metadata": {
        "id": "92df9e1a"
      },
      "source": [
        "### How difficult did you find this assignment?\n",
        "\n",
        "Assign an integer to variable `feedback_difficulty`, on a scale 0 - 10, with 0 being very easy, 5 being just right, and 10 being very difficult."
      ]
    },
    {
      "cell_type": "code",
      "execution_count": null,
      "id": "c44da128",
      "metadata": {
        "id": "c44da128"
      },
      "outputs": [],
      "source": [
        "#// BEGIN_FEEDBACK [Feedback_2] (0 points)\n",
        "\n",
        "#// END_FEEDBACK [Feedback_2]\n",
        "\n",
        "assert isinstance(feedback_difficulty, numbers.Number), \"Please assign a number to variable feedback_difficulty\""
      ]
    },
    {
      "cell_type": "markdown",
      "id": "3968bde4",
      "metadata": {
        "id": "3968bde4"
      },
      "source": [
        "### Which Machine Learning-related courses did you complete (TUE/workshop/online/etc.)?\n",
        "\n",
        "Assign a string to variable `feedback_courses`, listing any ML courses you followed."
      ]
    },
    {
      "cell_type": "code",
      "execution_count": null,
      "id": "e9b570b9",
      "metadata": {
        "id": "e9b570b9"
      },
      "outputs": [],
      "source": [
        "#// BEGIN_FEEDBACK [Feedback_3] (0 points)\n",
        "\n",
        "#// END_FEEDBACK [Feedback_3]\n",
        "\n",
        "assert isinstance(feedback_courses, str), \"Please assign a string to variable feedback_courses\""
      ]
    },
    {
      "cell_type": "markdown",
      "id": "00ca5959",
      "metadata": {
        "id": "00ca5959"
      },
      "source": [
        "### Would you prefer to earn points for the leaderboard exercise?\n",
        "\n",
        "Currently, the leaderboard exercise is optional: your participation on the leaderboard does not affect your grade, neither does your position on the leaderboard. Would you enjoy a leaderboard exercise, where each group's score is published on the leaderboard and the winning group gets a reward (e.g. they get a 10 for the entire assignment, all other groups are assessed normally on the other exercises)?\n",
        "\n",
        "Assign a number to variable `feedback_leaderboard`:\n",
        "\n",
        "- 1 for \"yes, I would like it\"\n",
        "- 0 for \"I do not have an opinion\"\n",
        "- -1 for \"no, I prefer an optional leaderboard\""
      ]
    },
    {
      "cell_type": "code",
      "execution_count": null,
      "id": "fc30d31c",
      "metadata": {
        "id": "fc30d31c"
      },
      "outputs": [],
      "source": [
        "#// BEGIN_FEEDBACK [Feedback_4] (0 points)\n",
        "\n",
        "#// END_FEEDBACK [Feedback_4]\n",
        "\n",
        "assert isinstance(feedback_leaderboard, numbers.Number), \"Please assign a number to variable feedback_leaderboard\""
      ]
    },
    {
      "cell_type": "markdown",
      "id": "e3790e84",
      "metadata": {
        "id": "e3790e84"
      },
      "source": [
        "### (Optional) What did you like?\n",
        "\n",
        "Assign a string to variable `feedback_like`."
      ]
    },
    {
      "cell_type": "code",
      "execution_count": null,
      "id": "78831b99",
      "metadata": {
        "id": "78831b99"
      },
      "outputs": [],
      "source": [
        "#// BEGIN_FEEDBACK [Feedback_5] (0 points)\n",
        "\n",
        "#// END_FEEDBACK [Feedback_5]"
      ]
    },
    {
      "cell_type": "markdown",
      "id": "e0b74a0b",
      "metadata": {
        "id": "e0b74a0b"
      },
      "source": [
        "### (Optional) What can be improved?\n",
        "\n",
        "Assign a string to variable `feedback_improve`. Please be specific, so that we can act on your feedback."
      ]
    },
    {
      "cell_type": "code",
      "execution_count": null,
      "id": "09c79c04",
      "metadata": {
        "id": "09c79c04"
      },
      "outputs": [],
      "source": [
        "#// BEGIN_FEEDBACK [Feedback_6] (0 points)\n",
        "\n",
        "#// END_FEEDBACK [Feedback_6]"
      ]
    }
  ],
  "metadata": {
    "hide_input": false,
    "kernelspec": {
      "display_name": "Python 3",
      "language": "python",
      "name": "python3"
    },
    "language_info": {
      "codemirror_mode": {
        "name": "ipython",
        "version": 3
      },
      "file_extension": ".py",
      "mimetype": "text/x-python",
      "name": "python",
      "nbconvert_exporter": "python",
      "pygments_lexer": "ipython3",
      "version": "3.7.13"
    },
    "toc": {
      "base_numbering": 1,
      "nav_menu": {},
      "number_sections": false,
      "sideBar": true,
      "skip_h1_title": false,
      "title_cell": "Table of Contents",
      "title_sidebar": "Contents",
      "toc_cell": false,
      "toc_position": {},
      "toc_section_display": true,
      "toc_window_display": true
    },
    "colab": {
      "provenance": [],
      "include_colab_link": true
    }
  },
  "nbformat": 4,
  "nbformat_minor": 5
}